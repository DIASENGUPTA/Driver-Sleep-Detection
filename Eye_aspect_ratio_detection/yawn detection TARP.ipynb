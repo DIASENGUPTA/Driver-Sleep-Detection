{
 "cells": [
  {
   "cell_type": "markdown",
   "id": "distant-forwarding",
   "metadata": {},
   "source": [
    "# YAWN DETECTION"
   ]
  },
  {
   "cell_type": "code",
   "execution_count": 8,
   "id": "occupational-tooth",
   "metadata": {},
   "outputs": [],
   "source": [
    "# Headerfiles\n",
    "import cv2\n",
    "import dlib\n",
    "import numpy as np"
   ]
  },
  {
   "cell_type": "code",
   "execution_count": 9,
   "id": "weekly-november",
   "metadata": {},
   "outputs": [],
   "source": [
    "#Detector and Predictor \n",
    "PREDICTOR_PATH = \"shape_predictor_68_face_landmarks.dat\"\n",
    "predictor = dlib.shape_predictor(PREDICTOR_PATH)\n",
    "detector = dlib.get_frontal_face_detector()"
   ]
  },
  {
   "cell_type": "code",
   "execution_count": 10,
   "id": "respective-overall",
   "metadata": {},
   "outputs": [],
   "source": [
    "#Facial Landmarks drawing\n",
    "def get_landmarks(im):\n",
    "    rects = detector(im, 1)\n",
    "\n",
    "    if len(rects) > 1:\n",
    "        return \"error\"\n",
    "    if len(rects) == 0:\n",
    "        return \"error\"\n",
    "    return np.matrix([[p.x, p.y] for p in predictor(im, rects[0]).parts()])"
   ]
  },
  {
   "cell_type": "code",
   "execution_count": 11,
   "id": "textile-parts",
   "metadata": {},
   "outputs": [],
   "source": [
    "#Annoting the landmarks in the face\n",
    "def annotate_landmarks(im, landmarks):\n",
    "    im = im.copy()\n",
    "    for idx, point in enumerate(landmarks):\n",
    "        pos = (point[0, 0], point[0, 1])\n",
    "        cv2.putText(im, str(idx), pos,\n",
    "                    fontFace=cv2.FONT_HERSHEY_SCRIPT_SIMPLEX,\n",
    "                    fontScale=0.4,\n",
    "                    color=(0, 0, 255))\n",
    "        cv2.circle(im, pos, 3, color=(0, 255, 255))\n",
    "    return im"
   ]
  },
  {
   "cell_type": "code",
   "execution_count": 12,
   "id": "arbitrary-brazilian",
   "metadata": {},
   "outputs": [],
   "source": [
    "#Top and Bottom lip points\n",
    "def top_lip(landmarks):\n",
    "    top_lip_pts = []\n",
    "    for i in range(50,53):\n",
    "        top_lip_pts.append(landmarks[i])\n",
    "    for i in range(61,64):\n",
    "        top_lip_pts.append(landmarks[i])\n",
    "    top_lip_all_pts = np.squeeze(np.asarray(top_lip_pts))\n",
    "    top_lip_mean = np.mean(top_lip_pts, axis=0)\n",
    "    return int(top_lip_mean[:,1])\n",
    "\n",
    "def bottom_lip(landmarks):\n",
    "    bottom_lip_pts = []\n",
    "    for i in range(65,68):\n",
    "        bottom_lip_pts.append(landmarks[i])\n",
    "    for i in range(56,59):\n",
    "        bottom_lip_pts.append(landmarks[i])\n",
    "    bottom_lip_all_pts = np.squeeze(np.asarray(bottom_lip_pts))\n",
    "    bottom_lip_mean = np.mean(bottom_lip_pts, axis=0)\n",
    "    return int(bottom_lip_mean[:,1])"
   ]
  },
  {
   "cell_type": "code",
   "execution_count": 13,
   "id": "established-lying",
   "metadata": {},
   "outputs": [],
   "source": [
    "#The mouth openness measure\n",
    "def mouth_open(image):\n",
    "    landmarks = get_landmarks(image)\n",
    "    \n",
    "    if landmarks == \"error\":\n",
    "        return image, 0\n",
    "    \n",
    "    image_with_landmarks = annotate_landmarks(image, landmarks)\n",
    "    top_lip_center = top_lip(landmarks)\n",
    "    bottom_lip_center = bottom_lip(landmarks)\n",
    "    lip_distance = abs(top_lip_center - bottom_lip_center)\n",
    "    return image_with_landmarks, lip_distance"
   ]
  },
  {
   "cell_type": "code",
   "execution_count": 14,
   "id": "radical-hundred",
   "metadata": {},
   "outputs": [
    {
     "name": "stderr",
     "output_type": "stream",
     "text": [
      "C:\\Users\\Kathakoli\\anaconda3\\envs\\env_dlib\\lib\\site-packages\\ipykernel_launcher.py:5: FutureWarning: elementwise comparison failed; returning scalar instead, but in the future will perform elementwise comparison\n",
      "  \"\"\"\n"
     ]
    }
   ],
   "source": [
    "#Video capture and main function\n",
    "cap = cv2.VideoCapture(0)\n",
    "yawns = 0\n",
    "yawn_status = False \n",
    "\n",
    "while True:\n",
    "    ret, frame = cap.read()   \n",
    "    image_landmarks, lip_distance = mouth_open(frame)\n",
    "    \n",
    "    prev_yawn_status = yawn_status  \n",
    "    \n",
    "    if lip_distance > 25:\n",
    "        yawn_status = True \n",
    "        \n",
    "        cv2.putText(frame, \"Subject is Yawning\", (50,450), \n",
    "                    cv2.FONT_HERSHEY_COMPLEX, 1,(0,0,255),2)\n",
    "        \n",
    "\n",
    "        output_text = \" Yawn Count: \" + str(yawns + 1)\n",
    "\n",
    "        cv2.putText(frame, output_text, (50,50),\n",
    "                    cv2.FONT_HERSHEY_COMPLEX, 1,(0,255,127),2)\n",
    "        \n",
    "    else:\n",
    "        yawn_status = False \n",
    "         \n",
    "    if prev_yawn_status == True and yawn_status == False:\n",
    "        yawns += 1\n",
    "\n",
    "    cv2.imshow('Live Landmarks', image_landmarks )\n",
    "    cv2.imshow('Yawn Detection', frame )\n",
    "    \n",
    "    if cv2.waitKey(1) == 13: #13 is the Enter Key\n",
    "        break\n",
    "        \n",
    "cap.release()\n",
    "cv2.destroyAllWindows() "
   ]
  },
  {
   "cell_type": "code",
   "execution_count": null,
   "id": "administrative-investing",
   "metadata": {},
   "outputs": [],
   "source": [
    "\n"
   ]
  },
  {
   "cell_type": "code",
   "execution_count": null,
   "id": "balanced-belize",
   "metadata": {},
   "outputs": [],
   "source": []
  }
 ],
 "metadata": {
  "kernelspec": {
   "display_name": "Python 3",
   "language": "python",
   "name": "python3"
  },
  "language_info": {
   "codemirror_mode": {
    "name": "ipython",
    "version": 3
   },
   "file_extension": ".py",
   "mimetype": "text/x-python",
   "name": "python",
   "nbconvert_exporter": "python",
   "pygments_lexer": "ipython3",
   "version": "3.6.12"
  }
 },
 "nbformat": 4,
 "nbformat_minor": 5
}
