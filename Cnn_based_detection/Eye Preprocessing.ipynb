{
 "cells": [
  {
   "cell_type": "code",
   "execution_count": 4,
   "id": "blessed-tournament",
   "metadata": {},
   "outputs": [
    {
     "name": "stdout",
     "output_type": "stream",
     "text": [
      "Compressed pickle size: 5682683\n",
      "Compressed pickle size: 5682683\n"
     ]
    }
   ],
   "source": [
    "import matplotlib.pyplot as plt\n",
    "import numpy as np\n",
    "import os\n",
    "from six.moves import cPickle as pickle\n",
    "import cv2\n",
    "\n",
    "openDirs = ['dataset/openLeftEyes', 'dataset/openRightEyes']\n",
    "closeDirs = ['dataset/closedLeftEyes', 'dataset/closedRightEyes']\n",
    "\n",
    "def generate_dataset(type, dirData):\n",
    "    dataset = np.ndarray([1231*2, 24, 24, 1], dtype='float32')\n",
    "    i = 0\n",
    "    for dir in dirData:\n",
    "        for filename in os.listdir(dir):\n",
    "            if filename.endswith('.jpg'):\n",
    "                im = cv2.imread(dir + '/' + filename)\n",
    "                # Convert to grayscale image\n",
    "                im = np.dot(np.array(im, dtype='float32'), [[0.2989], [0.5870], [0.1140]]) / 255\n",
    "                dataset[i, :, :, :] = im[:, :, :]\n",
    "                i += 1\n",
    "\n",
    "    if type == 1:\n",
    "        labels = np.ones([len(dataset), 1], dtype=int)\n",
    "    else:\n",
    "        labels = np.zeros([len(dataset), 1], dtype=int)\n",
    "    return dataset, labels\n",
    "\n",
    "def save_train_and_test_set(dataset, labels, ratio, pickle_file):\n",
    "    split = int(len(dataset) * ratio)\n",
    "    train_dataset = dataset[:split]\n",
    "    train_labels = labels[:split]\n",
    "    test_dataset = dataset[split:]\n",
    "    test_labels = labels[split:]\n",
    "\n",
    "    try:\n",
    "        f = open(pickle_file, 'wb')\n",
    "        save = {\n",
    "            'train_dataset': train_dataset,\n",
    "            'train_labels': train_labels,\n",
    "            'test_dataset': test_dataset,\n",
    "            'test_labels': test_labels,\n",
    "        }\n",
    "        pickle.dump(save, f, pickle.HIGHEST_PROTOCOL)\n",
    "        f.close()\n",
    "    except Exception as e:\n",
    "        print('Unable to save data to', pickle_file, ':', e)\n",
    "        raise\n",
    "\n",
    "    statinfo = os.stat(pickle_file)\n",
    "    print('Compressed pickle size:', statinfo.st_size)\n",
    "\n",
    "# Main\n",
    "if __name__ == '__main__':\n",
    "    dataset_open, labels_open = generate_dataset(1, openDirs)\n",
    "    dataset_closed, labels_closed = generate_dataset(0, closeDirs)\n",
    "\n",
    "    ratio = 0.8\n",
    "\n",
    "    pickle_file_open = 'open_eyes.pickle'\n",
    "    pickle_file_closed = 'closed_eyes.pickle'\n",
    "\n",
    "    # Save open dataset to pickle file\n",
    "    save_train_and_test_set(dataset_open, labels_open, ratio, pickle_file_open)\n",
    "    # Save close dataset to pickle file\n",
    "    save_train_and_test_set(dataset_closed, labels_closed, ratio, pickle_file_closed)\n",
    "\n",
    "\n",
    "\n",
    "\n",
    "\n",
    "\n"
   ]
  },
  {
   "cell_type": "code",
   "execution_count": null,
   "id": "handled-democracy",
   "metadata": {},
   "outputs": [],
   "source": []
  }
 ],
 "metadata": {
  "kernelspec": {
   "display_name": "Python 3",
   "language": "python",
   "name": "python3"
  },
  "language_info": {
   "codemirror_mode": {
    "name": "ipython",
    "version": 3
   },
   "file_extension": ".py",
   "mimetype": "text/x-python",
   "name": "python",
   "nbconvert_exporter": "python",
   "pygments_lexer": "ipython3",
   "version": "3.6.12"
  }
 },
 "nbformat": 4,
 "nbformat_minor": 5
}
